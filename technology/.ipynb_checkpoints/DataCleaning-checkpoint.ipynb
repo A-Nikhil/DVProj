{
 "cells": [
  {
   "cell_type": "code",
   "execution_count": 1,
   "metadata": {},
   "outputs": [],
   "source": [
    "import csv"
   ]
  },
  {
   "cell_type": "code",
   "execution_count": 33,
   "metadata": {},
   "outputs": [],
   "source": [
    "def checkCountryCode(name):\n",
    "    with open\n",
    "\n",
    "i = 0\n",
    "newArray = []\n",
    "with open('../datasets/tech-price-index/TechnologyIndex.csv', newline='') as file:\n",
    "    reader = csv.reader(file)\n",
    "    for row in reader:\n",
    "        if i == 0:\n",
    "            newArray.append(row)\n",
    "            i+=1\n",
    "            continue\n",
    "        else:\n",
    "            values = []\n",
    "            for value in row:\n",
    "                value = value.replace('$', '')\n",
    "                value = value.replace(',', '')\n",
    "                values.append(value)\n",
    "                values.append(checkCountryCode(row[1]))\n",
    "            newArray.append(values)"
   ]
  },
  {
   "cell_type": "code",
   "execution_count": 34,
   "metadata": {},
   "outputs": [],
   "source": [
    "# print(newArray)\n",
    "myFile = open('../datasets/tech-price-index/TechnologyIndexDataCleanedAgain.csv', 'w')\n",
    "with myFile:\n",
    "    writer = csv.writer(myFile)\n",
    "    writer.writerows(newArray)"
   ]
  }
 ],
 "metadata": {
  "kernelspec": {
   "display_name": "Python 3",
   "language": "python",
   "name": "python3"
  },
  "language_info": {
   "codemirror_mode": {
    "name": "ipython",
    "version": 3
   },
   "file_extension": ".py",
   "mimetype": "text/x-python",
   "name": "python",
   "nbconvert_exporter": "python",
   "pygments_lexer": "ipython3",
   "version": "3.7.4"
  },
  "pycharm": {
   "stem_cell": {
    "cell_type": "raw",
    "metadata": {
     "collapsed": false
    },
    "source": []
   }
  },
  "toc": {
   "base_numbering": 1,
   "nav_menu": {},
   "number_sections": true,
   "sideBar": true,
   "skip_h1_title": false,
   "title_cell": "Table of Contents",
   "title_sidebar": "Contents",
   "toc_cell": false,
   "toc_position": {},
   "toc_section_display": true,
   "toc_window_display": false
  }
 },
 "nbformat": 4,
 "nbformat_minor": 1
}
