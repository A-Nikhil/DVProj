{
 "cells": [
  {
   "cell_type": "code",
   "execution_count": null,
   "metadata": {},
   "outputs": [],
   "source": [
    "import csv\n",
    "datasets = Path('D:/projects/DataVisProject/datasets')\n",
    "market_share_file = datasets/'smartphone_market_share/market_share_2009-2019.csv'\n",
    "newArray = []\n",
    "i=0\n",
    "with open(market_share_file, newline='') as filer:\n",
    "    reader = csv.reader(filer)\n",
    "    for row in reader:\n",
    "        if i == 0:\n",
    "            i+=1\n",
    "            newArray.append(row)\n",
    "            continue\n",
    "        else:\n",
    "            limit = float(row[2])\n",
    "            limit *= 100\n",
    "            limit = '%.3f'%(limit)\n",
    "            row[2] = str(limit)\n",
    "            newArray.append(row)\n",
    "market_share_file1 = datasets/'smartphone_market_share/market_share_2009-2019_1.csv'\n",
    "with open(market_share_file1, 'w') as filer:\n",
    "    writer = csv.writer(filer)\n",
    "    writer.writerows(newArray)"
   ]
  }
 ],
 "metadata": {
  "kernelspec": {
   "display_name": "Python 3",
   "language": "python",
   "name": "python3"
  },
  "language_info": {
   "codemirror_mode": {
    "name": "ipython",
    "version": 3
   },
   "file_extension": ".py",
   "mimetype": "text/x-python",
   "name": "python",
   "nbconvert_exporter": "python",
   "pygments_lexer": "ipython3",
   "version": "3.7.4"
  }
 },
 "nbformat": 4,
 "nbformat_minor": 2
}
